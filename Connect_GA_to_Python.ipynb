{
 "cells": [
  {
   "cell_type": "markdown",
   "id": "060ca7af",
   "metadata": {},
   "source": [
    "Connect Google Analytics\n"
   ]
  },
  {
   "cell_type": "code",
   "execution_count": null,
   "id": "e949e3cc-9ec0-453c-bfbc-88fc732a9230",
   "metadata": {},
   "outputs": [],
   "source": [
    "pip install google-auth google-analytics-data"
   ]
  },
  {
   "cell_type": "code",
   "execution_count": 1,
   "id": "cd1c7bec",
   "metadata": {},
   "outputs": [],
   "source": [
    "from google.oauth2 import service_account\n",
    "from google.analytics.data_v1beta import BetaAnalyticsDataClient\n",
    "from google.analytics.data_v1beta.types import RunReportRequest"
   ]
  },
  {
   "cell_type": "code",
   "execution_count": null,
   "id": "1461b40e",
   "metadata": {},
   "outputs": [
    {
     "name": "stdout",
     "output_type": "stream",
     "text": [
      "Active Users: 1130\n"
     ]
    }
   ],
   "source": [
    "#Path to your credentials(JSON) file\n",
    "service_account_file = r\"C:\\Users\\Shagufta\\Documents\\Data Analyst\\Python_VSCode\\Websitevala.json\"\n",
    "\n",
    "#Authenticate using service account\n",
    "credentials = service_account.Credentials.from_service_account_file(service_account_file)\n",
    "\n",
    "#Initialize the GA4 client with credentials\n",
    "client = BetaAnalyticsDataClient(credentials=credentials)\n",
    "\n",
    "# Replace with your GA4 property ID\n",
    "property_id = \"\"\n",
    "\n",
    "#Funcation to fetch real-time data\n",
    "def get_ga_data():\n",
    "    request = RunReportRequest(\n",
    "        property = f\"properties/{property_id}\",\n",
    "        metrics = [{\"name\":\"activeUsers\"}],\n",
    "        date_ranges = [{\"start_date\": \"2024-03-16\", \"end_date\": \"today\"}]\n",
    "    )\n",
    "    response = client.run_report(request)\n",
    "    \n",
    "    for row in response.rows:\n",
    "        print(f\"Active Users: {row.metric_values[0].value}\")\n",
    "\n",
    "\n",
    "get_ga_data()"
   ]
  }
 ],
 "metadata": {
  "kernelspec": {
   "display_name": ".venv",
   "language": "python",
   "name": "python3"
  },
  "language_info": {
   "codemirror_mode": {
    "name": "ipython",
    "version": 3
   },
   "file_extension": ".py",
   "mimetype": "text/x-python",
   "name": "python",
   "nbconvert_exporter": "python",
   "pygments_lexer": "ipython3",
   "version": "3.13.2"
  }
 },
 "nbformat": 4,
 "nbformat_minor": 5
}
