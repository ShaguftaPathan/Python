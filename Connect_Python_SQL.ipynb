{
 "cells": [
  {
   "cell_type": "code",
   "execution_count": 1,
   "metadata": {},
   "outputs": [],
   "source": [
    "import pandas as pd\n",
    "import numpy as np\n",
    "import matplotlib.pyplot as plt\n",
    "import seaborn as sns"
   ]
  },
  {
   "cell_type": "markdown",
   "metadata": {},
   "source": [
    "Connect to SQL"
   ]
  },
  {
   "cell_type": "code",
   "execution_count": 2,
   "metadata": {},
   "outputs": [],
   "source": [
    "import pyodbc\n",
    "import warnings\n",
    "warnings.filterwarnings(\"ignore\")"
   ]
  },
  {
   "cell_type": "code",
   "execution_count": 4,
   "metadata": {},
   "outputs": [
    {
     "name": "stdout",
     "output_type": "stream",
     "text": [
      "Connected to SQL Server successfully!\n"
     ]
    }
   ],
   "source": [
    "server = \"SP_PC\\SQLEXPRESS\"\n",
    "database = \"Test\"\n",
    "driver = \"ODBC Driver 17 for SQL Server\" #Ensure you have correct driver, if not then install\n",
    "\n",
    "#SQL Server authentication\n",
    "#\"Driver={SQL Server};Server=myServerName;Database=myDatabaseName;UID=myUsername;PWD=myPassword;\"\n",
    "\n",
    "#Windows authentication\n",
    "conn_string = f\"Driver={driver};Server={server};Database={database};Trusted_Connection=yes\"\n",
    "\n",
    "try:\n",
    "    conn = pyodbc.connect(conn_string)\n",
    "    cur = conn.cursor()\n",
    "    print(\"Connected to SQL Server successfully!\")\n",
    "except exception as e:\n",
    "    print(\"Error:\",e)\n",
    "\n",
    "#conn.close()\n",
    "#cur.close()"
   ]
  },
  {
   "cell_type": "markdown",
   "metadata": {},
   "source": [
    "Know your Table and Columns"
   ]
  },
  {
   "cell_type": "code",
   "execution_count": 5,
   "metadata": {},
   "outputs": [
    {
     "name": "stdout",
     "output_type": "stream",
     "text": [
      "[('Customers',), ('Emp_joins',)]\n"
     ]
    }
   ],
   "source": [
    "#Table Name\n",
    "cur.execute(\"\"\"\n",
    "    SELECT TABLE_NAME\n",
    "    FROM INFORMATION_SCHEMA.TABLES\n",
    "    WHERE TABLE_TYPE = 'BASE TABLE';\n",
    "\"\"\")\n",
    "\n",
    "# Fetch all the results\n",
    "table = cur.fetchall()\n",
    "print(table)"
   ]
  },
  {
   "cell_type": "code",
   "execution_count": 6,
   "metadata": {},
   "outputs": [
    {
     "name": "stdout",
     "output_type": "stream",
     "text": [
      "Column: saleid\n",
      "Column: customerid\n",
      "Column: productcategory\n",
      "Column: saledate\n",
      "Column: quantity\n",
      "Column: unitprice\n",
      "Column: paymenttype\n",
      "Column: employeeid\n"
     ]
    }
   ],
   "source": [
    "# Columns names\n",
    "cur.execute(\"\"\"\n",
    "    SELECT COLUMN_NAME\n",
    "    FROM INFORMATION_SCHEMA.COLUMNS\n",
    "    WHERE TABLE_NAME = 'Customers'\n",
    "    ORDER BY ORDINAL_POSITION;\n",
    "\"\"\")\n",
    "\n",
    "# Fetch all the results\n",
    "columns = cur.fetchall()\n",
    "\n",
    "# Print the column names\n",
    "for column in columns:\n",
    "    print(f\"Column: {column[0]}\")\n"
   ]
  },
  {
   "cell_type": "markdown",
   "metadata": {},
   "source": [
    "Pull Data from Table"
   ]
  },
  {
   "cell_type": "code",
   "execution_count": 7,
   "metadata": {},
   "outputs": [
    {
     "data": {
      "text/html": [
       "<div>\n",
       "<style scoped>\n",
       "    .dataframe tbody tr th:only-of-type {\n",
       "        vertical-align: middle;\n",
       "    }\n",
       "\n",
       "    .dataframe tbody tr th {\n",
       "        vertical-align: top;\n",
       "    }\n",
       "\n",
       "    .dataframe thead th {\n",
       "        text-align: right;\n",
       "    }\n",
       "</style>\n",
       "<table border=\"1\" class=\"dataframe\">\n",
       "  <thead>\n",
       "    <tr style=\"text-align: right;\">\n",
       "      <th></th>\n",
       "      <th>saleid</th>\n",
       "      <th>customerid</th>\n",
       "      <th>productcategory</th>\n",
       "      <th>saledate</th>\n",
       "      <th>quantity</th>\n",
       "      <th>unitprice</th>\n",
       "      <th>paymenttype</th>\n",
       "      <th>employeeid</th>\n",
       "    </tr>\n",
       "  </thead>\n",
       "  <tbody>\n",
       "    <tr>\n",
       "      <th>0</th>\n",
       "      <td>1.0</td>\n",
       "      <td>126.0</td>\n",
       "      <td>Books</td>\n",
       "      <td>2022-02-06</td>\n",
       "      <td>5.0</td>\n",
       "      <td>94.32</td>\n",
       "      <td>Online</td>\n",
       "      <td>74.0</td>\n",
       "    </tr>\n",
       "    <tr>\n",
       "      <th>1</th>\n",
       "      <td>2.0</td>\n",
       "      <td>132.0</td>\n",
       "      <td>Furniture</td>\n",
       "      <td>2022-04-07</td>\n",
       "      <td>2.0</td>\n",
       "      <td>59.95</td>\n",
       "      <td>Credit Card</td>\n",
       "      <td>42.0</td>\n",
       "    </tr>\n",
       "    <tr>\n",
       "      <th>2</th>\n",
       "      <td>3.0</td>\n",
       "      <td>99.0</td>\n",
       "      <td>Furniture</td>\n",
       "      <td>2022-01-09</td>\n",
       "      <td>1.0</td>\n",
       "      <td>343.07</td>\n",
       "      <td>Debit Card</td>\n",
       "      <td>27.0</td>\n",
       "    </tr>\n",
       "    <tr>\n",
       "      <th>3</th>\n",
       "      <td>4.0</td>\n",
       "      <td>456.0</td>\n",
       "      <td>Toys</td>\n",
       "      <td>2022-08-23</td>\n",
       "      <td>3.0</td>\n",
       "      <td>416.92</td>\n",
       "      <td>Online</td>\n",
       "      <td>81.0</td>\n",
       "    </tr>\n",
       "    <tr>\n",
       "      <th>4</th>\n",
       "      <td>5.0</td>\n",
       "      <td>443.0</td>\n",
       "      <td>Electronics</td>\n",
       "      <td>2022-04-20</td>\n",
       "      <td>2.0</td>\n",
       "      <td>485.40</td>\n",
       "      <td>Debit Card</td>\n",
       "      <td>31.0</td>\n",
       "    </tr>\n",
       "    <tr>\n",
       "      <th>5</th>\n",
       "      <td>6.0</td>\n",
       "      <td>360.0</td>\n",
       "      <td>Books</td>\n",
       "      <td>2024-11-18</td>\n",
       "      <td>5.0</td>\n",
       "      <td>276.47</td>\n",
       "      <td>Cash</td>\n",
       "      <td>82.0</td>\n",
       "    </tr>\n",
       "    <tr>\n",
       "      <th>6</th>\n",
       "      <td>7.0</td>\n",
       "      <td>367.0</td>\n",
       "      <td>Electronics</td>\n",
       "      <td>2023-01-18</td>\n",
       "      <td>2.0</td>\n",
       "      <td>437.72</td>\n",
       "      <td>Debit Card</td>\n",
       "      <td>79.0</td>\n",
       "    </tr>\n",
       "    <tr>\n",
       "      <th>7</th>\n",
       "      <td>8.0</td>\n",
       "      <td>242.0</td>\n",
       "      <td>Clothing</td>\n",
       "      <td>2022-08-14</td>\n",
       "      <td>3.0</td>\n",
       "      <td>433.42</td>\n",
       "      <td>Online</td>\n",
       "      <td>94.0</td>\n",
       "    </tr>\n",
       "    <tr>\n",
       "      <th>8</th>\n",
       "      <td>9.0</td>\n",
       "      <td>361.0</td>\n",
       "      <td>Toys</td>\n",
       "      <td>2022-04-25</td>\n",
       "      <td>3.0</td>\n",
       "      <td>179.76</td>\n",
       "      <td>Online</td>\n",
       "      <td>30.0</td>\n",
       "    </tr>\n",
       "    <tr>\n",
       "      <th>9</th>\n",
       "      <td>10.0</td>\n",
       "      <td>418.0</td>\n",
       "      <td>Furniture</td>\n",
       "      <td>2024-08-27</td>\n",
       "      <td>4.0</td>\n",
       "      <td>265.43</td>\n",
       "      <td>Debit Card</td>\n",
       "      <td>4.0</td>\n",
       "    </tr>\n",
       "  </tbody>\n",
       "</table>\n",
       "</div>"
      ],
      "text/plain": [
       "   saleid  customerid productcategory    saledate  quantity  unitprice  \\\n",
       "0     1.0       126.0           Books  2022-02-06       5.0      94.32   \n",
       "1     2.0       132.0       Furniture  2022-04-07       2.0      59.95   \n",
       "2     3.0        99.0       Furniture  2022-01-09       1.0     343.07   \n",
       "3     4.0       456.0            Toys  2022-08-23       3.0     416.92   \n",
       "4     5.0       443.0     Electronics  2022-04-20       2.0     485.40   \n",
       "5     6.0       360.0           Books  2024-11-18       5.0     276.47   \n",
       "6     7.0       367.0     Electronics  2023-01-18       2.0     437.72   \n",
       "7     8.0       242.0        Clothing  2022-08-14       3.0     433.42   \n",
       "8     9.0       361.0            Toys  2022-04-25       3.0     179.76   \n",
       "9    10.0       418.0       Furniture  2024-08-27       4.0     265.43   \n",
       "\n",
       "   paymenttype  employeeid  \n",
       "0       Online        74.0  \n",
       "1  Credit Card        42.0  \n",
       "2   Debit Card        27.0  \n",
       "3       Online        81.0  \n",
       "4   Debit Card        31.0  \n",
       "5         Cash        82.0  \n",
       "6   Debit Card        79.0  \n",
       "7       Online        94.0  \n",
       "8       Online        30.0  \n",
       "9   Debit Card         4.0  "
      ]
     },
     "execution_count": 7,
     "metadata": {},
     "output_type": "execute_result"
    }
   ],
   "source": [
    "query = \"Select top 10* from Customers;\"\n",
    "df = pd.read_sql(query, conn)\n",
    "df.head(10)\n"
   ]
  },
  {
   "cell_type": "code",
   "execution_count": 8,
   "metadata": {},
   "outputs": [],
   "source": [
    "cur.close()\n",
    "conn.close()"
   ]
  }
 ],
 "metadata": {
  "kernelspec": {
   "display_name": "Python 3",
   "language": "python",
   "name": "python3"
  },
  "language_info": {
   "codemirror_mode": {
    "name": "ipython",
    "version": 3
   },
   "file_extension": ".py",
   "mimetype": "text/x-python",
   "name": "python",
   "nbconvert_exporter": "python",
   "pygments_lexer": "ipython3",
   "version": "3.13.2"
  }
 },
 "nbformat": 4,
 "nbformat_minor": 2
}
