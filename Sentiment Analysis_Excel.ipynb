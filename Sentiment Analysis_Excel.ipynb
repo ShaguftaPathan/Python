{
 "cells": [
  {
   "cell_type": "code",
   "execution_count": 1,
   "id": "a4e148a4-c9d8-43e6-9fe4-0a28f21a739d",
   "metadata": {},
   "outputs": [],
   "source": [
    "import pandas as pd\n",
    "import nltk\n",
    "from nltk.sentiment import SentimentIntensityAnalyzer"
   ]
  },
  {
   "cell_type": "code",
   "execution_count": null,
   "id": "a2988931-7228-45cd-ba57-2a070df33a9d",
   "metadata": {},
   "outputs": [],
   "source": [
    "file_path = r\"\"\n",
    "df = pd.read_csv(file_path)"
   ]
  },
  {
   "cell_type": "markdown",
   "id": "a28e51ab",
   "metadata": {},
   "source": [
    "Sentiment Analysis with VADER"
   ]
  },
  {
   "cell_type": "markdown",
   "id": "0ef300b9",
   "metadata": {},
   "source": [
    "For 2 Categories : Positive and Negative"
   ]
  },
  {
   "cell_type": "code",
   "execution_count": null,
   "id": "49e022ce-3d12-437e-bfa0-d086c8c853d7",
   "metadata": {},
   "outputs": [
    {
     "name": "stderr",
     "output_type": "stream",
     "text": [
      "[nltk_data] Downloading package vader_lexicon to\n",
      "[nltk_data]     C:\\Users\\Shagufta\\AppData\\Roaming\\nltk_data...\n"
     ]
    }
   ],
   "source": [
    "# Sentiment Analysis using VADER\n",
    "nltk.download('vader_lexicon')\n"
   ]
  },
  {
   "cell_type": "code",
   "execution_count": 5,
   "id": "8ac85c7d",
   "metadata": {},
   "outputs": [],
   "source": [
    "sa = SentimentIntensityAnalyzer()\n",
    "df['sentiment'] = df['Review'].apply(lambda x: 'positive' if sa.polarity_scores(str(x))['compound'] > 0 else 'negative')"
   ]
  },
  {
   "cell_type": "code",
   "execution_count": 6,
   "id": "ce64da5f-2bf8-4494-a768-919c6b09b96f",
   "metadata": {},
   "outputs": [
    {
     "name": "stdout",
     "output_type": "stream",
     "text": [
      "Sentiment analysis completed. Results saved.\n"
     ]
    }
   ],
   "source": [
    "# Save the results\n",
    "df.to_csv('Result_Customer_Review.csv', index=False)\n",
    "print(\"Sentiment analysis completed. Results saved.\")"
   ]
  },
  {
   "cell_type": "markdown",
   "id": "13f7ab1f-f8fd-4da1-98da-a7364185f06c",
   "metadata": {},
   "source": [
    "For 5 categories: Negative, Mixed Negative, Neutral, Mixed Positive, Positive"
   ]
  },
  {
   "cell_type": "code",
   "execution_count": 7,
   "id": "f3121528-648d-4aa3-b747-a4db7613b8ef",
   "metadata": {},
   "outputs": [],
   "source": [
    "sia = SentimentIntensityAnalyzer()"
   ]
  },
  {
   "cell_type": "code",
   "execution_count": 9,
   "id": "d2ef03af-d5bf-4a16-bb3a-a81a1fe0a33c",
   "metadata": {},
   "outputs": [],
   "source": [
    "def get_polarity_scores(text):\n",
    "    return sia.polarity_scores(str(text))['compound']\n",
    "\n",
    "df['polarity_score'] = df['Review'].apply(get_polarity_scores)"
   ]
  },
  {
   "cell_type": "code",
   "execution_count": 10,
   "id": "eea8b524-b85b-4ce3-bfe7-e9d2e8461a26",
   "metadata": {},
   "outputs": [
    {
     "data": {
      "text/html": [
       "<div>\n",
       "<style scoped>\n",
       "    .dataframe tbody tr th:only-of-type {\n",
       "        vertical-align: middle;\n",
       "    }\n",
       "\n",
       "    .dataframe tbody tr th {\n",
       "        vertical-align: top;\n",
       "    }\n",
       "\n",
       "    .dataframe thead th {\n",
       "        text-align: right;\n",
       "    }\n",
       "</style>\n",
       "<table border=\"1\" class=\"dataframe\">\n",
       "  <thead>\n",
       "    <tr style=\"text-align: right;\">\n",
       "      <th></th>\n",
       "      <th>Review</th>\n",
       "      <th>CustomerID</th>\n",
       "      <th>Sale Department</th>\n",
       "      <th>sentiment</th>\n",
       "      <th>polarity_score</th>\n",
       "    </tr>\n",
       "  </thead>\n",
       "  <tbody>\n",
       "    <tr>\n",
       "      <th>9</th>\n",
       "      <td>The item was not as described. Will not purcha...</td>\n",
       "      <td>10</td>\n",
       "      <td>Decor</td>\n",
       "      <td>negative</td>\n",
       "      <td>0.0000</td>\n",
       "    </tr>\n",
       "    <tr>\n",
       "      <th>42</th>\n",
       "      <td>Customer service was fantastic! Helped me reso...</td>\n",
       "      <td>43</td>\n",
       "      <td>Fitness</td>\n",
       "      <td>positive</td>\n",
       "      <td>0.7574</td>\n",
       "    </tr>\n",
       "    <tr>\n",
       "      <th>35</th>\n",
       "      <td>The product is amazing! I love it.</td>\n",
       "      <td>36</td>\n",
       "      <td>Decor</td>\n",
       "      <td>positive</td>\n",
       "      <td>0.8516</td>\n",
       "    </tr>\n",
       "    <tr>\n",
       "      <th>34</th>\n",
       "      <td>The customer service was unresponsive when I h...</td>\n",
       "      <td>35</td>\n",
       "      <td>Fitness</td>\n",
       "      <td>negative</td>\n",
       "      <td>0.0000</td>\n",
       "    </tr>\n",
       "    <tr>\n",
       "      <th>29</th>\n",
       "      <td>The product performs as expected. No complaints.</td>\n",
       "      <td>30</td>\n",
       "      <td>Office</td>\n",
       "      <td>negative</td>\n",
       "      <td>-0.5994</td>\n",
       "    </tr>\n",
       "  </tbody>\n",
       "</table>\n",
       "</div>"
      ],
      "text/plain": [
       "                                               Review  CustomerID  \\\n",
       "9   The item was not as described. Will not purcha...          10   \n",
       "42  Customer service was fantastic! Helped me reso...          43   \n",
       "35                 The product is amazing! I love it.          36   \n",
       "34  The customer service was unresponsive when I h...          35   \n",
       "29   The product performs as expected. No complaints.          30   \n",
       "\n",
       "   Sale Department sentiment  polarity_score  \n",
       "9            Decor  negative          0.0000  \n",
       "42         Fitness  positive          0.7574  \n",
       "35           Decor  positive          0.8516  \n",
       "34         Fitness  negative          0.0000  \n",
       "29          Office  negative         -0.5994  "
      ]
     },
     "execution_count": 10,
     "metadata": {},
     "output_type": "execute_result"
    }
   ],
   "source": [
    "df.sample(5)"
   ]
  },
  {
   "cell_type": "code",
   "execution_count": 11,
   "id": "29c1fe99-c31c-46d2-ba03-bfcaaf82a9cb",
   "metadata": {},
   "outputs": [
    {
     "name": "stdout",
     "output_type": "stream",
     "text": [
      "Max Score 0.9115\n",
      "Min Score -0.7644\n"
     ]
    }
   ],
   "source": [
    "print(\"Max Score\", df['polarity_score'].max())\n",
    "print(\"Min Score\", df['polarity_score'].min())"
   ]
  },
  {
   "cell_type": "code",
   "execution_count": 14,
   "id": "ae504686-3bd1-47c2-8bbc-85209e929808",
   "metadata": {},
   "outputs": [
    {
     "data": {
      "text/plain": [
       "array([-0.7644 , -0.42922, -0.09404,  0.24114,  0.57632,  0.9115 ])"
      ]
     },
     "execution_count": 14,
     "metadata": {},
     "output_type": "execute_result"
    }
   ],
   "source": [
    "#Generate 5 evenly spaced numbers/bins\n",
    "import numpy as np\n",
    "min_score = df['polarity_score'].min()\n",
    "max_score = df['polarity_score'].max()\n",
    "bins = np.linspace(min_score, max_score, 6)\n",
    "bins"
   ]
  },
  {
   "cell_type": "code",
   "execution_count": 15,
   "id": "87a7cb13-ff9c-4d89-a97b-3396d0560667",
   "metadata": {},
   "outputs": [],
   "source": [
    "def cat_senti(text):\n",
    "    score = sia.polarity_scores(str(text))['compound']\n",
    "    if score >= 0.6:\n",
    "        return 'Positive'\n",
    "    elif 0.2<= score <= 0.6:\n",
    "        return 'Mixed Positive'\n",
    "    elif -0.2<= score <= 0.2:\n",
    "        return 'Neutral'\n",
    "    elif -0.2<= score <= 0.6:\n",
    "        return 'Mixed Negative'\n",
    "    else:\n",
    "        return 'Negative'\n",
    "\n",
    "df['Sentiment'] = df['Review'].apply(cat_senti)"
   ]
  },
  {
   "cell_type": "code",
   "execution_count": 16,
   "id": "91aa741d-d1b9-4344-b8a5-9597d3df221a",
   "metadata": {},
   "outputs": [
    {
     "data": {
      "text/html": [
       "<div>\n",
       "<style scoped>\n",
       "    .dataframe tbody tr th:only-of-type {\n",
       "        vertical-align: middle;\n",
       "    }\n",
       "\n",
       "    .dataframe tbody tr th {\n",
       "        vertical-align: top;\n",
       "    }\n",
       "\n",
       "    .dataframe thead th {\n",
       "        text-align: right;\n",
       "    }\n",
       "</style>\n",
       "<table border=\"1\" class=\"dataframe\">\n",
       "  <thead>\n",
       "    <tr style=\"text-align: right;\">\n",
       "      <th></th>\n",
       "      <th>Review</th>\n",
       "      <th>CustomerID</th>\n",
       "      <th>Sale Department</th>\n",
       "      <th>sentiment</th>\n",
       "      <th>polarity_score</th>\n",
       "      <th>Sentiment</th>\n",
       "    </tr>\n",
       "  </thead>\n",
       "  <tbody>\n",
       "    <tr>\n",
       "      <th>48</th>\n",
       "      <td>Customer service was helpful, but the product ...</td>\n",
       "      <td>49</td>\n",
       "      <td>Decor</td>\n",
       "      <td>positive</td>\n",
       "      <td>0.2263</td>\n",
       "      <td>Mixed Positive</td>\n",
       "    </tr>\n",
       "    <tr>\n",
       "      <th>43</th>\n",
       "      <td>The product stopped working after a few days. ...</td>\n",
       "      <td>44</td>\n",
       "      <td>Decor</td>\n",
       "      <td>negative</td>\n",
       "      <td>-0.6249</td>\n",
       "      <td>Negative</td>\n",
       "    </tr>\n",
       "    <tr>\n",
       "      <th>22</th>\n",
       "      <td>Fantastic product, and it was delivered on time.</td>\n",
       "      <td>23</td>\n",
       "      <td>Office</td>\n",
       "      <td>positive</td>\n",
       "      <td>0.5574</td>\n",
       "      <td>Mixed Positive</td>\n",
       "    </tr>\n",
       "    <tr>\n",
       "      <th>39</th>\n",
       "      <td>Fast shipping, but the product didn't meet my ...</td>\n",
       "      <td>40</td>\n",
       "      <td>Fitness</td>\n",
       "      <td>negative</td>\n",
       "      <td>0.0000</td>\n",
       "      <td>Neutral</td>\n",
       "    </tr>\n",
       "    <tr>\n",
       "      <th>20</th>\n",
       "      <td>The customer service team resolved my issue qu...</td>\n",
       "      <td>21</td>\n",
       "      <td>Kitchen</td>\n",
       "      <td>positive</td>\n",
       "      <td>0.1779</td>\n",
       "      <td>Neutral</td>\n",
       "    </tr>\n",
       "  </tbody>\n",
       "</table>\n",
       "</div>"
      ],
      "text/plain": [
       "                                               Review  CustomerID  \\\n",
       "48  Customer service was helpful, but the product ...          49   \n",
       "43  The product stopped working after a few days. ...          44   \n",
       "22   Fantastic product, and it was delivered on time.          23   \n",
       "39  Fast shipping, but the product didn't meet my ...          40   \n",
       "20  The customer service team resolved my issue qu...          21   \n",
       "\n",
       "   Sale Department sentiment  polarity_score       Sentiment  \n",
       "48           Decor  positive          0.2263  Mixed Positive  \n",
       "43           Decor  negative         -0.6249        Negative  \n",
       "22          Office  positive          0.5574  Mixed Positive  \n",
       "39         Fitness  negative          0.0000         Neutral  \n",
       "20         Kitchen  positive          0.1779         Neutral  "
      ]
     },
     "execution_count": 16,
     "metadata": {},
     "output_type": "execute_result"
    }
   ],
   "source": [
    "df.sample(5)"
   ]
  }
 ],
 "metadata": {
  "kernelspec": {
   "display_name": ".venv",
   "language": "python",
   "name": "python3"
  },
  "language_info": {
   "codemirror_mode": {
    "name": "ipython",
    "version": 3
   },
   "file_extension": ".py",
   "mimetype": "text/x-python",
   "name": "python",
   "nbconvert_exporter": "python",
   "pygments_lexer": "ipython3",
   "version": "3.13.2"
  }
 },
 "nbformat": 4,
 "nbformat_minor": 5
}
