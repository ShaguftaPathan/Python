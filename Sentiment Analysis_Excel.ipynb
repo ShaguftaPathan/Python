{
 "cells": [
  {
   "cell_type": "code",
   "execution_count": 1,
   "id": "a4e148a4-c9d8-43e6-9fe4-0a28f21a739d",
   "metadata": {},
   "outputs": [],
   "source": [
    "import pandas as pd\n",
    "import nltk\n",
    "from nltk.sentiment import SentimentIntensityAnalyzer"
   ]
  },
  {
   "cell_type": "code",
   "execution_count": null,
   "id": "a2988931-7228-45cd-ba57-2a070df33a9d",
   "metadata": {},
   "outputs": [],
   "source": [
    "file_path = r\"\"\n",
    "df = pd.read_csv(file_path)"
   ]
  },
  {
   "cell_type": "markdown",
   "id": "a28e51ab",
   "metadata": {},
   "source": [
    "Sentiment Analysis with VADER"
   ]
  },
  {
   "cell_type": "markdown",
   "id": "0ef300b9",
   "metadata": {},
   "source": [
    "For 2 Categories : Positive and Negative"
   ]
  },
  {
   "cell_type": "code",
   "execution_count": 20,
   "id": "49e022ce-3d12-437e-bfa0-d086c8c853d7",
   "metadata": {},
   "outputs": [
    {
     "name": "stderr",
     "output_type": "stream",
     "text": [
      "[nltk_data] Downloading package vader_lexicon to\n",
      "[nltk_data]     C:\\Users\\Shagufta\\AppData\\Roaming\\nltk_data...\n",
      "[nltk_data]   Package vader_lexicon is already up-to-date!\n"
     ]
    },
    {
     "data": {
      "text/plain": [
       "True"
      ]
     },
     "execution_count": 20,
     "metadata": {},
     "output_type": "execute_result"
    }
   ],
   "source": [
    "# Sentiment Analysis using VADER\n",
    "nltk.download('vader_lexicon')\n"
   ]
  },
  {
   "cell_type": "code",
   "execution_count": 21,
   "id": "8ac85c7d",
   "metadata": {},
   "outputs": [],
   "source": [
    "sa = SentimentIntensityAnalyzer()\n",
    "df['sentiment'] = df['Review'].apply(lambda x: 'positive' if sa.polarity_scores(str(x))['compound'] > 0 else 'negative')"
   ]
  },
  {
   "cell_type": "code",
   "execution_count": 22,
   "id": "ce64da5f-2bf8-4494-a768-919c6b09b96f",
   "metadata": {},
   "outputs": [
    {
     "name": "stdout",
     "output_type": "stream",
     "text": [
      "Sentiment analysis completed. Results saved.\n"
     ]
    }
   ],
   "source": [
    "# Save the results\n",
    "df.to_csv('Result_Customer_Review.csv', index=False)\n",
    "print(\"Sentiment analysis completed. Results saved.\")"
   ]
  },
  {
   "cell_type": "markdown",
   "id": "13f7ab1f-f8fd-4da1-98da-a7364185f06c",
   "metadata": {},
   "source": [
    "For 5 categories: Negative, Mixed Negative, Neutral, Mixed Positive, Positive"
   ]
  },
  {
   "cell_type": "code",
   "execution_count": 23,
   "id": "f3121528-648d-4aa3-b747-a4db7613b8ef",
   "metadata": {},
   "outputs": [],
   "source": [
    "sia = SentimentIntensityAnalyzer()"
   ]
  },
  {
   "cell_type": "code",
   "execution_count": 24,
   "id": "d2ef03af-d5bf-4a16-bb3a-a81a1fe0a33c",
   "metadata": {},
   "outputs": [],
   "source": [
    "def get_polarity_scores(text):\n",
    "    return sia.polarity_scores(str(text))['compound']\n",
    "\n",
    "df['polarity_score'] = df['Review'].apply(get_polarity_scores)"
   ]
  },
  {
   "cell_type": "code",
   "execution_count": 25,
   "id": "eea8b524-b85b-4ce3-bfe7-e9d2e8461a26",
   "metadata": {},
   "outputs": [
    {
     "data": {
      "text/html": [
       "<div>\n",
       "<style scoped>\n",
       "    .dataframe tbody tr th:only-of-type {\n",
       "        vertical-align: middle;\n",
       "    }\n",
       "\n",
       "    .dataframe tbody tr th {\n",
       "        vertical-align: top;\n",
       "    }\n",
       "\n",
       "    .dataframe thead th {\n",
       "        text-align: right;\n",
       "    }\n",
       "</style>\n",
       "<table border=\"1\" class=\"dataframe\">\n",
       "  <thead>\n",
       "    <tr style=\"text-align: right;\">\n",
       "      <th></th>\n",
       "      <th>Review</th>\n",
       "      <th>CustomerID</th>\n",
       "      <th>Sale Department</th>\n",
       "      <th>sentiment</th>\n",
       "      <th>polarity_score</th>\n",
       "    </tr>\n",
       "  </thead>\n",
       "  <tbody>\n",
       "    <tr>\n",
       "      <th>43</th>\n",
       "      <td>The product stopped working after a few days. ...</td>\n",
       "      <td>44</td>\n",
       "      <td>Decor</td>\n",
       "      <td>negative</td>\n",
       "      <td>-0.6249</td>\n",
       "    </tr>\n",
       "    <tr>\n",
       "      <th>12</th>\n",
       "      <td>Very happy with the quality of the product. Hi...</td>\n",
       "      <td>13</td>\n",
       "      <td>Kitchen</td>\n",
       "      <td>positive</td>\n",
       "      <td>0.7951</td>\n",
       "    </tr>\n",
       "    <tr>\n",
       "      <th>17</th>\n",
       "      <td>The product is okay, but it doesn't justify th...</td>\n",
       "      <td>18</td>\n",
       "      <td>Office</td>\n",
       "      <td>positive</td>\n",
       "      <td>0.1154</td>\n",
       "    </tr>\n",
       "    <tr>\n",
       "      <th>48</th>\n",
       "      <td>Customer service was helpful, but the product ...</td>\n",
       "      <td>49</td>\n",
       "      <td>Decor</td>\n",
       "      <td>positive</td>\n",
       "      <td>0.2263</td>\n",
       "    </tr>\n",
       "    <tr>\n",
       "      <th>2</th>\n",
       "      <td>Great service, fast shipping, and the product ...</td>\n",
       "      <td>3</td>\n",
       "      <td>Office</td>\n",
       "      <td>positive</td>\n",
       "      <td>0.6249</td>\n",
       "    </tr>\n",
       "  </tbody>\n",
       "</table>\n",
       "</div>"
      ],
      "text/plain": [
       "                                               Review  CustomerID  \\\n",
       "43  The product stopped working after a few days. ...          44   \n",
       "12  Very happy with the quality of the product. Hi...          13   \n",
       "17  The product is okay, but it doesn't justify th...          18   \n",
       "48  Customer service was helpful, but the product ...          49   \n",
       "2   Great service, fast shipping, and the product ...           3   \n",
       "\n",
       "   Sale Department sentiment  polarity_score  \n",
       "43           Decor  negative         -0.6249  \n",
       "12         Kitchen  positive          0.7951  \n",
       "17          Office  positive          0.1154  \n",
       "48           Decor  positive          0.2263  \n",
       "2           Office  positive          0.6249  "
      ]
     },
     "execution_count": 25,
     "metadata": {},
     "output_type": "execute_result"
    }
   ],
   "source": [
    "df.sample(5)"
   ]
  },
  {
   "cell_type": "code",
   "execution_count": 26,
   "id": "29c1fe99-c31c-46d2-ba03-bfcaaf82a9cb",
   "metadata": {},
   "outputs": [
    {
     "name": "stdout",
     "output_type": "stream",
     "text": [
      "Max Score 0.9115\n",
      "Min Score -0.7644\n"
     ]
    }
   ],
   "source": [
    "print(\"Max Score\", df['polarity_score'].max())\n",
    "print(\"Min Score\", df['polarity_score'].min())"
   ]
  },
  {
   "cell_type": "code",
   "execution_count": 27,
   "id": "ae504686-3bd1-47c2-8bbc-85209e929808",
   "metadata": {},
   "outputs": [
    {
     "data": {
      "text/plain": [
       "array([-0.7644 , -0.42922, -0.09404,  0.24114,  0.57632,  0.9115 ])"
      ]
     },
     "execution_count": 27,
     "metadata": {},
     "output_type": "execute_result"
    }
   ],
   "source": [
    "#Generate 5 evenly spaced numbers/bins\n",
    "import numpy as np\n",
    "min_score = df['polarity_score'].min()\n",
    "max_score = df['polarity_score'].max()\n",
    "bins = np.linspace(min_score, max_score, 6)\n",
    "bins"
   ]
  },
  {
   "cell_type": "code",
   "execution_count": 28,
   "id": "87a7cb13-ff9c-4d89-a97b-3396d0560667",
   "metadata": {},
   "outputs": [],
   "source": [
    "def cat_senti(text):\n",
    "    score = sia.polarity_scores(str(text))['compound']\n",
    "    if score >= 0.6:\n",
    "        return 'Positive'\n",
    "    elif 0.2<= score <= 0.6:\n",
    "        return 'Mixed Positive'\n",
    "    elif -0.2<= score <= 0.2:\n",
    "        return 'Neutral'\n",
    "    elif -0.2<= score <= 0.6:\n",
    "        return 'Mixed Negative'\n",
    "    else:\n",
    "        return 'Negative'\n",
    "\n",
    "df['Sentiment'] = df['Review'].apply(cat_senti)"
   ]
  },
  {
   "cell_type": "code",
   "execution_count": 29,
   "id": "91aa741d-d1b9-4344-b8a5-9597d3df221a",
   "metadata": {},
   "outputs": [
    {
     "data": {
      "text/html": [
       "<div>\n",
       "<style scoped>\n",
       "    .dataframe tbody tr th:only-of-type {\n",
       "        vertical-align: middle;\n",
       "    }\n",
       "\n",
       "    .dataframe tbody tr th {\n",
       "        vertical-align: top;\n",
       "    }\n",
       "\n",
       "    .dataframe thead th {\n",
       "        text-align: right;\n",
       "    }\n",
       "</style>\n",
       "<table border=\"1\" class=\"dataframe\">\n",
       "  <thead>\n",
       "    <tr style=\"text-align: right;\">\n",
       "      <th></th>\n",
       "      <th>Review</th>\n",
       "      <th>CustomerID</th>\n",
       "      <th>Sale Department</th>\n",
       "      <th>sentiment</th>\n",
       "      <th>polarity_score</th>\n",
       "      <th>Sentiment</th>\n",
       "    </tr>\n",
       "  </thead>\n",
       "  <tbody>\n",
       "    <tr>\n",
       "      <th>21</th>\n",
       "      <td>I am not happy with the purchase. Poor quality.</td>\n",
       "      <td>22</td>\n",
       "      <td>Fitness</td>\n",
       "      <td>negative</td>\n",
       "      <td>-0.7268</td>\n",
       "      <td>Negative</td>\n",
       "    </tr>\n",
       "    <tr>\n",
       "      <th>34</th>\n",
       "      <td>The customer service was unresponsive when I h...</td>\n",
       "      <td>35</td>\n",
       "      <td>Fitness</td>\n",
       "      <td>negative</td>\n",
       "      <td>0.0000</td>\n",
       "      <td>Neutral</td>\n",
       "    </tr>\n",
       "    <tr>\n",
       "      <th>28</th>\n",
       "      <td>The product arrived damaged, but the company r...</td>\n",
       "      <td>29</td>\n",
       "      <td>Kitchen</td>\n",
       "      <td>negative</td>\n",
       "      <td>-0.2382</td>\n",
       "      <td>Negative</td>\n",
       "    </tr>\n",
       "    <tr>\n",
       "      <th>31</th>\n",
       "      <td>I'm very impressed with the quality of the pro...</td>\n",
       "      <td>32</td>\n",
       "      <td>Kitchen</td>\n",
       "      <td>positive</td>\n",
       "      <td>0.5256</td>\n",
       "      <td>Mixed Positive</td>\n",
       "    </tr>\n",
       "    <tr>\n",
       "      <th>8</th>\n",
       "      <td>Excellent product! Exceeded my expectations.</td>\n",
       "      <td>9</td>\n",
       "      <td>Fitness</td>\n",
       "      <td>positive</td>\n",
       "      <td>0.6114</td>\n",
       "      <td>Positive</td>\n",
       "    </tr>\n",
       "  </tbody>\n",
       "</table>\n",
       "</div>"
      ],
      "text/plain": [
       "                                               Review  CustomerID  \\\n",
       "21    I am not happy with the purchase. Poor quality.          22   \n",
       "34  The customer service was unresponsive when I h...          35   \n",
       "28  The product arrived damaged, but the company r...          29   \n",
       "31  I'm very impressed with the quality of the pro...          32   \n",
       "8        Excellent product! Exceeded my expectations.           9   \n",
       "\n",
       "   Sale Department sentiment  polarity_score       Sentiment  \n",
       "21         Fitness  negative         -0.7268        Negative  \n",
       "34         Fitness  negative          0.0000         Neutral  \n",
       "28         Kitchen  negative         -0.2382        Negative  \n",
       "31         Kitchen  positive          0.5256  Mixed Positive  \n",
       "8          Fitness  positive          0.6114        Positive  "
      ]
     },
     "execution_count": 29,
     "metadata": {},
     "output_type": "execute_result"
    }
   ],
   "source": [
    "df.sample(5)"
   ]
  },
  {
   "cell_type": "code",
   "execution_count": 17,
   "id": "69c2cf0a",
   "metadata": {},
   "outputs": [],
   "source": [
    "import seaborn as sns\n",
    "import matplotlib.pyplot as plt"
   ]
  },
  {
   "cell_type": "code",
   "execution_count": 62,
   "id": "a6015590",
   "metadata": {},
   "outputs": [
    {
     "data": {
      "text/html": [
       "<div>\n",
       "<style scoped>\n",
       "    .dataframe tbody tr th:only-of-type {\n",
       "        vertical-align: middle;\n",
       "    }\n",
       "\n",
       "    .dataframe tbody tr th {\n",
       "        vertical-align: top;\n",
       "    }\n",
       "\n",
       "    .dataframe thead th {\n",
       "        text-align: right;\n",
       "    }\n",
       "</style>\n",
       "<table border=\"1\" class=\"dataframe\">\n",
       "  <thead>\n",
       "    <tr style=\"text-align: right;\">\n",
       "      <th></th>\n",
       "      <th>sentiment</th>\n",
       "      <th>Count</th>\n",
       "    </tr>\n",
       "  </thead>\n",
       "  <tbody>\n",
       "    <tr>\n",
       "      <th>1</th>\n",
       "      <td>positive</td>\n",
       "      <td>32</td>\n",
       "    </tr>\n",
       "    <tr>\n",
       "      <th>0</th>\n",
       "      <td>negative</td>\n",
       "      <td>18</td>\n",
       "    </tr>\n",
       "  </tbody>\n",
       "</table>\n",
       "</div>"
      ],
      "text/plain": [
       "  sentiment  Count\n",
       "1  positive     32\n",
       "0  negative     18"
      ]
     },
     "execution_count": 62,
     "metadata": {},
     "output_type": "execute_result"
    }
   ],
   "source": [
    "sent2 = df.groupby(['sentiment']).size().reset_index(name='Count').sort_values(by='Count', ascending=False)\n",
    "sent2"
   ]
  },
  {
   "cell_type": "code",
   "execution_count": 63,
   "id": "b124f5a5",
   "metadata": {},
   "outputs": [
    {
     "data": {
      "image/png": "[encoded data removed]",
      "text/plain": [
       "<Figure size 200x300 with 1 Axes>"
      ]
     },
     "metadata": {},
     "output_type": "display_data"
    }
   ],
   "source": [
    "plt.figure(figsize=(2,3))\n",
    "ax = sns.barplot(data = sent2, x='sentiment', y='Count', palette='pastel', edgecolor ='black')\n",
    "for bars in ax.containers:\n",
    "    ax.bar_label(bars, padding= 4);"
   ]
  },
  {
   "cell_type": "code",
   "execution_count": 60,
   "id": "24581acd",
   "metadata": {},
   "outputs": [
    {
     "data": {
      "text/html": [
       "<div>\n",
       "<style scoped>\n",
       "    .dataframe tbody tr th:only-of-type {\n",
       "        vertical-align: middle;\n",
       "    }\n",
       "\n",
       "    .dataframe tbody tr th {\n",
       "        vertical-align: top;\n",
       "    }\n",
       "\n",
       "    .dataframe thead th {\n",
       "        text-align: right;\n",
       "    }\n",
       "</style>\n",
       "<table border=\"1\" class=\"dataframe\">\n",
       "  <thead>\n",
       "    <tr style=\"text-align: right;\">\n",
       "      <th></th>\n",
       "      <th>Sentiment</th>\n",
       "      <th>Count</th>\n",
       "    </tr>\n",
       "  </thead>\n",
       "  <tbody>\n",
       "    <tr>\n",
       "      <th>3</th>\n",
       "      <td>Positive</td>\n",
       "      <td>17</td>\n",
       "    </tr>\n",
       "    <tr>\n",
       "      <th>1</th>\n",
       "      <td>Negative</td>\n",
       "      <td>15</td>\n",
       "    </tr>\n",
       "    <tr>\n",
       "      <th>0</th>\n",
       "      <td>Mixed Positive</td>\n",
       "      <td>12</td>\n",
       "    </tr>\n",
       "    <tr>\n",
       "      <th>2</th>\n",
       "      <td>Neutral</td>\n",
       "      <td>6</td>\n",
       "    </tr>\n",
       "  </tbody>\n",
       "</table>\n",
       "</div>"
      ],
      "text/plain": [
       "        Sentiment  Count\n",
       "3        Positive     17\n",
       "1        Negative     15\n",
       "0  Mixed Positive     12\n",
       "2         Neutral      6"
      ]
     },
     "execution_count": 60,
     "metadata": {},
     "output_type": "execute_result"
    }
   ],
   "source": [
    "sent5 = df.groupby(['Sentiment']).size().reset_index(name='Count').sort_values(by='Count',ascending=False)\n",
    "sent5"
   ]
  },
  {
   "cell_type": "code",
   "execution_count": 35,
   "id": "d5926d26",
   "metadata": {},
   "outputs": [],
   "source": [
    "import warnings\n",
    "warnings.filterwarnings(\"ignore\")"
   ]
  },
  {
   "cell_type": "code",
   "execution_count": 66,
   "id": "bf1fcf24",
   "metadata": {},
   "outputs": [
    {
     "data": {
      "image/png": "[encoded data removed]",
      "text/plain": [
       "<Figure size 400x300 with 1 Axes>"
      ]
     },
     "metadata": {},
     "output_type": "display_data"
    }
   ],
   "source": [
    "plt.figure(figsize=(4,3))\n",
    "ax = sns.barplot(data = sent5, x='Sentiment', y='Count', palette='pastel', edgecolor ='black')\n",
    "for bars in ax.containers:\n",
    "    ax.bar_label(bars, padding= 4)\n",
    "\n",
    "plt.xticks(rotation=(15));"
   ]
  }
 ],
 "metadata": {
  "kernelspec": {
   "display_name": ".venv",
   "language": "python",
   "name": "python3"
  },
  "language_info": {
   "codemirror_mode": {
    "name": "ipython",
    "version": 3
   },
   "file_extension": ".py",
   "mimetype": "text/x-python",
   "name": "python",
   "nbconvert_exporter": "python",
   "pygments_lexer": "ipython3",
   "version": "3.13.2"
  }
 },
 "nbformat": 4,
 "nbformat_minor": 5
}
